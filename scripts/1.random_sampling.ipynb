{
 "cells": [
  {
   "cell_type": "code",
   "execution_count": 1,
   "id": "42552e92-d4d9-4d17-8566-fc5a43297108",
   "metadata": {
    "scrolled": true
   },
   "outputs": [
    {
     "name": "stderr",
     "output_type": "stream",
     "text": [
      "WARNING: using GH19.datadir in module Main conflicts with an existing identifier.\n",
      "WARNING: using GH19.srcdir in module Main conflicts with an existing identifier.\n"
     ]
    },
    {
     "name": "stdout",
     "output_type": "stream",
     "text": [
      "Downloading OPT-0015 output\n",
      " takes about 10 minutes\n",
      "Theta_OPT-0015.nc already downloaded; use `force=true` to re-download\n",
      "Theta_anom_OPT-0015.nc already downloaded; use `force=true` to re-download\n"
     ]
    }
   ],
   "source": [
    "using DrWatson\n",
    "@quickactivate \"sst-mot-analysis\"\n",
    "\n",
    "import DrWatson: datadir, srcdir\n",
    "import DrWatson: @quickactivate\n",
    "include(srcdir(\"compare_random_samples.jl\"))\n",
    "\n",
    "using GH19, TMI, PythonCall, Revise"
   ]
  },
  {
   "cell_type": "code",
   "execution_count": 2,
   "id": "88ca53ba-66d7-4973-9853-724a81d0b01e",
   "metadata": {},
   "outputs": [
    {
     "data": {
      "text/plain": [
       "2"
      ]
     },
     "execution_count": 2,
     "metadata": {},
     "output_type": "execute_result"
    }
   ],
   "source": [
    "N_sample = 2\n",
    "Nboot = 2"
   ]
  },
  {
   "cell_type": "markdown",
   "id": "dc55ff25-4595-43f7-a780-b5c2bfd94708",
   "metadata": {},
   "source": [
    "### Spherical Sampling Results"
   ]
  },
  {
   "cell_type": "code",
   "execution_count": 5,
   "id": "37109f3d-ded1-4517-848f-ca2cb31dae01",
   "metadata": {},
   "outputs": [
    {
     "name": "stdout",
     "output_type": "stream",
     "text": [
      "Form water-mass matrix A\n",
      "  0.265626 seconds (640.30 k allocations: 59.652 MiB, 3.09% gc time, 89.94% compilation time)\n",
      "LU factorization of A\n",
      "  0.429390 seconds (586.65 k allocations: 334.420 MiB, 2.78% gc time, 21.28% compilation time)\n",
      "circulation matrix L=\n",
      "  0.101136 seconds (83.42 k allocations: 4.416 MiB, 97.89% compilation time)\n",
      "Boundary matrix B=\n",
      "  0.022873 seconds (16.05 k allocations: 834.680 KiB, 92.40% compilation time)\n",
      "Form water-mass matrix A\n",
      "  0.145982 seconds (35.37 k allocations: 120.466 MiB, 58.44% gc time, 10.33% compilation time)\n",
      "LU factorization of A\n",
      "  4.549253 seconds (88 allocations: 2.868 GiB, 1.55% gc time)\n",
      "circulation matrix L=\n",
      "  0.212666 seconds (8.35 M allocations: 235.400 MiB, 6.02% gc time, 36.11% compilation time)\n",
      "Boundary matrix B=\n",
      "  0.016969 seconds (6.19 k allocations: 7.271 MiB, 17.69% compilation time)\n",
      "Form water-mass matrix A\n",
      "  0.029512 seconds (5.23 k allocations: 118.943 MiB, 8.02% gc time)\n",
      "LU factorization of A\n",
      "  4.447515 seconds (87 allocations: 2.868 GiB, 0.83% gc time)\n",
      "circulation matrix L=\n",
      "  0.149504 seconds (8.14 M allocations: 224.520 MiB, 5.33% gc time)\n",
      "Boundary matrix B=\n",
      "  0.018162 seconds (6.14 k allocations: 7.270 MiB)\n"
     ]
    },
    {
     "name": "stderr",
     "output_type": "stream",
     "text": [
      "\u001b[32mRunning 5000 MC trials (n=100).. 100%|███████████████████| Time: 0:18:14\u001b[39m\n"
     ]
    }
   ],
   "source": [
    "spherical_sampl_results  = bootstrap_PI_lgm_differences(N_sample, Nboot; sampling_method=:spherical);"
   ]
  },
  {
   "cell_type": "code",
   "execution_count": 2,
   "id": "b359c7c6-235d-4ffd-a6c4-f028036265a4",
   "metadata": {},
   "outputs": [
    {
     "ename": "LoadError",
     "evalue": "UndefVarError: `spherical_sampl_results` not defined in `Main`\nSuggestion: check for spelling errors or missing imports.",
     "output_type": "error",
     "traceback": [
      "UndefVarError: `spherical_sampl_results` not defined in `Main`\nSuggestion: check for spelling errors or missing imports.",
      "",
      "Stacktrace:",
      " [1] top-level scope",
      "\u001b[90m   @\u001b[39m \u001b[90m\u001b[4mIn[2]:1\u001b[24m\u001b[39m"
     ]
    }
   ],
   "source": [
    "generate_temperature_difference_plot(\n",
    "    spherical_sampl_results,\n",
    "    :spherical, N_sample, Nboot, plotsdir(\"1.LGM_PI_Temp_diff_weighted_spherical_sampled.png\")\n",
    ")"
   ]
  },
  {
   "cell_type": "code",
   "execution_count": 7,
   "id": "09e92eba-9c5e-4950-9d52-1cb16264bbb3",
   "metadata": {},
   "outputs": [],
   "source": [
    "bootstrapped_profiles = spherical_sampl_results[\"bootstrapped_profiles\"]\n",
    "delta_sst = vec(mean(bootstrapped_profiles[\"PI_surface\"] .-\n",
    "                     bootstrapped_profiles[\"LGM_surface\"], dims=1));\n",
    "delta_mot = vec(mean(bootstrapped_profiles[\"PI_bottom\"] .-\n",
    "                     bootstrapped_profiles[\"LGM_bottom\"], dims=1));"
   ]
  },
  {
   "cell_type": "code",
   "execution_count": 8,
   "id": "07eee665-a89b-462d-a483-4644904927f8",
   "metadata": {},
   "outputs": [
    {
     "name": "stdout",
     "output_type": "stream",
     "text": [
      "dSST Mean 4.9\n",
      "dSST CI (4.2, 5.66)\n",
      "dMOT Mean 1.8\n",
      "dMOT CI (1.59, 2.17)\n"
     ]
    }
   ],
   "source": [
    "get_CI(x) = round.((quantile(x, 0.025), quantile(x, 0.975)), digits = 2)\n",
    "\n",
    "println(\"dSST Mean \", round(mean(delta_sst), digits = 1))\n",
    "println(\"dSST CI \", get_CI(delta_sst))\n",
    "\n",
    "println(\"dMOT Mean \", round(mean(delta_mot), digits = 1))\n",
    "println(\"dMOT CI \", get_CI(delta_mot))"
   ]
  },
  {
   "cell_type": "code",
   "execution_count": 9,
   "id": "272fc0c4-0c9e-423f-8d1b-c4bf4b609165",
   "metadata": {},
   "outputs": [],
   "source": [
    "mot_sst_ratio = delta_mot ./ delta_sst;"
   ]
  },
  {
   "cell_type": "code",
   "execution_count": 10,
   "id": "ffefd4f9-9a81-43ef-91c0-d9f9d2a92841",
   "metadata": {},
   "outputs": [
    {
     "data": {
      "text/plain": [
       "0.0"
      ]
     },
     "execution_count": 10,
     "metadata": {},
     "output_type": "execute_result"
    }
   ],
   "source": [
    "100 * sum(mot_sst_ratio .> 1) / length(mot_sst_ratio)"
   ]
  },
  {
   "cell_type": "code",
   "execution_count": null,
   "id": "3662c4d8-8ecb-4efd-a451-d7ce00ec154b",
   "metadata": {},
   "outputs": [],
   "source": []
  }
 ],
 "metadata": {
  "kernelspec": {
   "display_name": "Julia 1.11.5",
   "language": "julia",
   "name": "julia-1.11"
  },
  "language_info": {
   "file_extension": ".jl",
   "mimetype": "application/julia",
   "name": "julia",
   "version": "1.11.5"
  }
 },
 "nbformat": 4,
 "nbformat_minor": 5
}
