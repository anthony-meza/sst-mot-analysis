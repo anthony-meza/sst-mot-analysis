{
 "cells": [
  {
   "cell_type": "code",
   "execution_count": null,
   "id": "42552e92-d4d9-4d17-8566-fc5a43297108",
   "metadata": {
    "scrolled": true
   },
   "outputs": [],
   "source": [
    "using DrWatson\n",
    "@quickactivate \"sst-mot-analysis\"\n",
    "\n",
    "import DrWatson: datadir, srcdir\n",
    "import DrWatson: @quickactivate\n",
    "include(srcdir(\"compare_random_samples.jl\"))\n",
    "\n",
    "using GH19, TMI, PythonCall, Revise, CondaPkg\n",
    "using CSV, DataFrames, NCDatasets\n",
    "\n",
    "const cfxr = pyimport(\"cf_xarray\");\n",
    "\n",
    "const xr = pyimport(\"xarray\");\n",
    "const xe = pyimport(\"xesmf\");\n",
    "const np = pyimport(\"numpy\")                                \n"
   ]
  },
  {
   "cell_type": "code",
   "execution_count": null,
   "id": "49e3c436",
   "metadata": {},
   "outputs": [],
   "source": [
    "# Configure LGM dataset\n",
    "TMIversion_lgm = \"LGM_90x45x33_G14\"\n",
    "A_lgm, Alu_lgm, γ_lgm, TMIfile_lgm, L_lgm, B_lgm = config(TMIversion_lgm);"
   ]
  },
  {
   "cell_type": "code",
   "execution_count": null,
   "id": "c2afbdfd",
   "metadata": {},
   "outputs": [],
   "source": [
    "function add_boundaries(ds)\n",
    "    try \n",
    "        ds = ds.to_dataset().cf.add_bounds([\"lon\", \"lat\"])\n",
    "    catch\n",
    "        ds = ds.cf.add_bounds([\"lon\", \"lat\"])\n",
    "    end\n",
    "    lon_b = cfxr.bounds_to_vertices(ds[\"lon_bounds\"], ds.cf.get_bounds_dim_name(\"lon\"), order=nothing)\n",
    "    lat_b = cfxr.bounds_to_vertices(ds[\"lat_bounds\"], ds.cf.get_bounds_dim_name(\"lat\"), order=nothing)\n",
    "    ds[\"lon_b\"] = lon_b\n",
    "    ds[\"lat_b\"] = lat_b\n",
    "    return ds\n",
    "\n",
    "end\n"
   ]
  },
  {
   "cell_type": "code",
   "execution_count": null,
   "id": "672e92f9",
   "metadata": {},
   "outputs": [],
   "source": [
    "\n",
    "\n",
    "function add_boundaries_2d(ds)\n",
    "    lon = ds.lon.values    # (ny,nx)\n",
    "    lat = ds.lat.values\n",
    "\n",
    "    # 1) pad to (ny+2, nx+2):\n",
    "    #    - X (second dim) is periodic → wrap\n",
    "    #    - Y (first dim) is not → edge\n",
    "    lon_ext = np.pad(lon, ((1,1),(1,1)), mode=\"wrap\")\n",
    "    lat_ext = np.pad(lat, ((1,1),(1,1)), mode=\"edge\")\n",
    "\n",
    "    # alias for full slice “:”\n",
    "    full = Slice(nothing, nothing)\n",
    "\n",
    "    # 2) average the four neighbors at each corner → (ny+1,nx+1)\n",
    "    lon_b = 0.25 * (\n",
    "       lon_ext[Slice(nothing, -1), Slice(nothing, -1)] .+\n",
    "       lon_ext[Slice(1,       nothing), Slice(nothing, -1)] .+\n",
    "       lon_ext[Slice(nothing, -1), Slice(1,       nothing)] .+\n",
    "       lon_ext[Slice(1,       nothing), Slice(1,       nothing)]\n",
    "    )\n",
    "    lat_b = 0.25 * (\n",
    "       lat_ext[Slice(nothing, -1), Slice(nothing, -1)] .+\n",
    "       lat_ext[Slice(1,       nothing), Slice(nothing, -1)] .+\n",
    "       lat_ext[Slice(nothing, -1), Slice(1,       nothing)] .+\n",
    "       lat_ext[Slice(1,       nothing), Slice(1,       nothing)]\n",
    "    )\n",
    "\n",
    "    # 3) attach with the correct dims\n",
    "    return ds.assign_coords(\n",
    "      lon_b = ((\"y_b\",\"x_b\"), lon_b),\n",
    "      lat_b = ((\"y_b\",\"x_b\"), lat_b),\n",
    "    )\n",
    "end\n"
   ]
  },
  {
   "cell_type": "code",
   "execution_count": null,
   "id": "45ca4712",
   "metadata": {},
   "outputs": [],
   "source": [
    "surfidx = surfaceindex(γ_lgm)\n",
    "TMI_lgm_theta = xr.open_dataset(TMIfile_lgm)[\"θ\"].isel(depth = surfidx - 1).drop_vars(\"depth\")\n",
    "mask = 1 * TMI_lgm_theta\n",
    "\n",
    "mask.values = xr.where(~np.isnan(TMI_lgm_theta), 1, 0)\n",
    "TMI_lgm_theta[\"mask\"] = mask;\n",
    "TMI_lgm_theta = add_boundaries(TMI_lgm_theta);"
   ]
  },
  {
   "cell_type": "code",
   "execution_count": null,
   "id": "d66bc343",
   "metadata": {},
   "outputs": [],
   "source": [
    " xe.util.grid_global(1, 1)"
   ]
  },
  {
   "cell_type": "code",
   "execution_count": null,
   "id": "44314d12",
   "metadata": {},
   "outputs": [],
   "source": [
    "lgm_DA = xr.open_dataset(datadir(\"lgmDA_lgm_Ocn_annual.nc\"))\n",
    "lgm_DA[\"mask\"] = xr.where(~np.isnan(lgm_DA[\"sst\"]), 1, 0)\n",
    "\n",
    "lgm_DA = add_boundaries(lgm_DA)\n",
    "\n",
    "ds_out = xe.util.grid_global(0.5, 0.5)\n",
    "\n",
    "area_in  = xe.util.cell_area(lgm_DA,  earth_radius=6371.0)       # for your source\n",
    "area_out = xe.util.cell_area(ds_out,  earth_radius=6371.0)  # for your target :contentReference[oaicite:0]{index=0}\n",
    "\n",
    "# ds_out = ds_out.drop_vars(\"lat_b\").drop_vars(\"lon_b\")\n",
    "\n",
    "regridder = xe.Regridder(lgm_DA, ds_out, method = \"conservative_normed\", periodic = true, ignore_degenerate=false, )\n",
    "lgm_DA_remapped = regridder(lgm_DA[\"sst\"])"
   ]
  },
  {
   "cell_type": "code",
   "execution_count": null,
   "id": "820a332b",
   "metadata": {},
   "outputs": [],
   "source": [
    "area_avg(ds, area, mask) = (ds *  area *  mask).sum() / (area *  mask).sum()\n",
    "\n",
    "println(area_avg(lgm_DA[\"sst\"], area_in, lgm_DA[\"mask\"]))\n",
    "\n",
    "println(area_avg(lgm_DA_remapped, area_out, TMI_lgm_theta[\"mask\"]))"
   ]
  },
  {
   "cell_type": "code",
   "execution_count": null,
   "id": "6318715e",
   "metadata": {},
   "outputs": [],
   "source": [
    "fig, ax = subplots()\n",
    "lgm_DA_remapped.plot(ax = ax)\n",
    "fig"
   ]
  },
  {
   "cell_type": "code",
   "execution_count": null,
   "id": "aef3ecef",
   "metadata": {},
   "outputs": [],
   "source": [
    "lgm_DA = xr.open_dataset(datadir(\"lgmDA_lgm_Ocn_annual.nc\"))\n",
    "lgm_DA[\"mask\"] = xr.where(~np.isnan(lgm_DA[\"sst\"]), 1, 0)\n",
    "lgm_DA = add_boundaries(lgm_DA)\n",
    "\n",
    "area_in  = xe.util.cell_area(lgm_DA,  earth_radius=6371.0)       # for your source\n",
    "area_out = xe.util.cell_area(TMI_lgm_theta,  earth_radius=6371.0)  # for your target :contentReference[oaicite:0]{index=0}\n",
    "\n",
    "regridder = xe.Regridder(lgm_DA, TMI_lgm_theta, method = \"bilinear\", periodic = true, ignore_degenerate=false, )\n",
    "lgm_DA_remapped = regridder(lgm_DA[\"sst\"])\n",
    "\n",
    "regrid_nearest = xe.Regridder(\n",
    "    lgm_DA, TMI_lgm_theta,\n",
    "    method=\"nearest_s2d\",\n",
    "    periodic=true,          # or True if global wrap‑around\n",
    "    ignore_degenerate=true, \n",
    "    extrap_method=\"nearest_s2d\"  # fill any remaining gaps :contentReference[oaicite:0]{index=0}\n",
    ")\n",
    "\n",
    "lgm_DA_near = regrid_nearest(lgm_DA[\"sst\"])\n"
   ]
  },
  {
   "cell_type": "code",
   "execution_count": null,
   "id": "6a13ca45",
   "metadata": {},
   "outputs": [],
   "source": []
  },
  {
   "cell_type": "code",
   "execution_count": null,
   "id": "1e95b974",
   "metadata": {},
   "outputs": [],
   "source": []
  },
  {
   "cell_type": "code",
   "execution_count": null,
   "id": "62fbc1c1",
   "metadata": {},
   "outputs": [],
   "source": []
  },
  {
   "cell_type": "code",
   "execution_count": null,
   "id": "7d1bfe62",
   "metadata": {},
   "outputs": [],
   "source": [
    "area_avg(lgm_DA_near, area_out, TMI_lgm_theta[\"mask\"])"
   ]
  },
  {
   "cell_type": "code",
   "execution_count": null,
   "id": "cc7c8f11",
   "metadata": {},
   "outputs": [],
   "source": [
    "fig, ax = subplots()\n",
    "TMI_lgm_theta[\"mask\"].plot(ax = ax)\n",
    "fig"
   ]
  },
  {
   "cell_type": "code",
   "execution_count": null,
   "id": "4906fb27",
   "metadata": {},
   "outputs": [],
   "source": [
    "fig, ax = subplots()\n",
    "lgm_DA.lon.plot(ax = ax)\n",
    "fig"
   ]
  },
  {
   "cell_type": "code",
   "execution_count": null,
   "id": "6fb06b8d",
   "metadata": {},
   "outputs": [],
   "source": []
  },
  {
   "cell_type": "code",
   "execution_count": null,
   "id": "2e9db8a0",
   "metadata": {},
   "outputs": [],
   "source": [
    "fig, ax = subplots()\n",
    "lgm_DA.mask.plot(ax = ax)\n",
    "fig"
   ]
  },
  {
   "cell_type": "code",
   "execution_count": null,
   "id": "49a7d7f0",
   "metadata": {},
   "outputs": [],
   "source": []
  }
 ],
 "metadata": {
  "kernelspec": {
   "display_name": "Julia 1.11.5",
   "language": "julia",
   "name": "julia-1.11"
  },
  "language_info": {
   "file_extension": ".jl",
   "mimetype": "application/julia",
   "name": "julia",
   "version": "1.11.5"
  }
 },
 "nbformat": 4,
 "nbformat_minor": 5
}
