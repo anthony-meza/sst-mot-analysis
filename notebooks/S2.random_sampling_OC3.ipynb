{
 "cells": [
  {
   "cell_type": "code",
   "execution_count": 27,
   "id": "42552e92-d4d9-4d17-8566-fc5a43297108",
   "metadata": {
    "scrolled": true
   },
   "outputs": [],
   "source": [
    "using DrWatson\n",
    "@quickactivate \"sst-mot-analysis\"\n",
    "\n",
    "import DrWatson: datadir, srcdir\n",
    "import DrWatson: @quickactivate\n",
    "\n",
    "using GH19, TMI, PythonCall, Revise\n",
    "using CSV, DataFrames, NaNStatistics, NCDatasets"
   ]
  },
  {
   "cell_type": "code",
   "execution_count": 37,
   "id": "e04aaa1b",
   "metadata": {},
   "outputs": [
    {
     "data": {
      "text/plain": [
       "get_MOT_and_SST (generic function with 2 methods)"
      ]
     },
     "metadata": {},
     "output_type": "display_data"
    }
   ],
   "source": [
    "function get_MOT_and_SST(TMIfile::String, γ::Grid)\n",
    "    θ = readfield(TMIfile, \"θ\", γ); #true mean\n",
    "    volume = cellvolume(γ).tracer \n",
    "    area = cellarea(γ).tracer \n",
    "\n",
    "    θ̄_MOT = nansum(θ.tracer .* volume) / nansum(volume)\n",
    "    θ_SST = getsurfaceboundary(θ);\n",
    "    θ̄_SST = nansum(θ_SST.tracer .* area) / nansum(area)\n",
    "    return θ̄_MOT, θ̄_SST\n",
    "end\n",
    "\n",
    "function get_MOT_and_SST(θ::Field, γ::Grid)\n",
    "    volume = cellvolume(γ).tracer \n",
    "    area = cellarea(γ).tracer \n",
    "\n",
    "    θ̄_MOT = nansum(θ.tracer .* volume) / nansum(volume)\n",
    "    θ_SST = getsurfaceboundary(θ);\n",
    "    θ̄_SST = nansum(θ_SST.tracer .* area) / nansum(area)\n",
    "    return θ̄_MOT, θ̄_SST\n",
    "end"
   ]
  },
  {
   "cell_type": "code",
   "execution_count": 41,
   "id": "2af04ce7-5963-4ebd-a892-3b6ffd9808aa",
   "metadata": {},
   "outputs": [
    {
     "name": "stdout",
     "output_type": "stream",
     "text": [
      "Form water-mass matrix A\n",
      "  0.020721 seconds (1.99 k allocations: 26.437 MiB)\n",
      "LU factorization of A\n",
      "  0.580567 seconds (88 allocations: 305.217 MiB, 16.20% gc time)\n",
      "circulation matrix L=\n",
      "  0.004192 seconds (333 allocations: 26.828 KiB)\n",
      "Boundary matrix B=\n",
      "  0.002232 seconds (332 allocations: 26.805 KiB)\n",
      "1.4033505303988716e18\n",
      "Form water-mass matrix A\n",
      "  0.026768 seconds (4.57 k allocations: 34.897 MiB)\n",
      "LU factorization of A\n",
      "  0.821807 seconds (89 allocations: 492.957 MiB, 0.54% gc time)\n",
      "circulation matrix L=\n",
      "  0.004475 seconds (802 allocations: 66.539 KiB)\n",
      "Boundary matrix B=\n",
      "  0.003870 seconds (801 allocations: 66.516 KiB)\n",
      "Form water-mass matrix A\n",
      "  0.044618 seconds (5.23 k allocations: 118.943 MiB)\n",
      "LU factorization of A\n",
      "  5.321390 seconds (89 allocations: 2.810 GiB, 0.35% gc time)\n",
      "circulation matrix L=\n",
      "  0.130313 seconds (8.14 M allocations: 224.520 MiB, 1.69% gc time)\n",
      "Boundary matrix B=\n",
      "  0.013752 seconds (6.14 k allocations: 7.270 MiB)\n"
     ]
    }
   ],
   "source": [
    "\n",
    "\n",
    "###### LOAD LGM ###########\n",
    "TMI_version = \"LGM_90x45x33_G14\";\n",
    "A, Alu, γ_lgm, TMIfile, L, B = config(TMI_version); println(sum(cellvolume(γ_lgm))) \n",
    "TMIfile = TMI.pkgdatadir(\"TMI_\"*TMI_version*\".nc\")\n",
    "\n",
    "θ̄_LGM_MOT, θ̄_LGM_SST = get_MOT_and_SST(TMIfile, γ_lgm);\n",
    "\n",
    "###### LOAD MODERN ###########\n",
    "TMI_version = \"modern_90x45x33_G14_v2\";\n",
    "A, Alu, γ_mod, TMIfile, L, B = config(TMI_version); \n",
    "TMIfile = TMI.pkgdatadir(\"TMI_\"*TMI_version*\".nc\")\n",
    "θ̄_mod_MOT, θ̄_mod_SST_fine = get_MOT_and_SST(TMIfile, γ_mod);\n",
    "\n",
    "###### LOAD MODERN GH19 ###########\n",
    "TMI_version = GH19.TMIversion()\n",
    "A, Alu, γ_mod, TMIfile, L, B = config(TMI_version); \n",
    "\n",
    "OPT15_ds = NCDataset(datadir(\"Theta_OPT-0015.nc\"))\n",
    "idx_90s = findmin(abs.(OPT15_ds[\"year\"][:] .- 1990))[2]\n",
    "GH19_theta = GH19.readfield_snapshot(datadir(\"Theta_OPT-0015.nc\"), \"theta\", idx_90s, γ_mod)\n",
    "θ̄_mod_MOT_90s, θ̄_mod_SST_fine_90s = get_MOT_and_SST(GH19_theta, γ_mod);\n",
    "\n"
   ]
  },
  {
   "cell_type": "code",
   "execution_count": 42,
   "id": "6bbd8533",
   "metadata": {},
   "outputs": [
    {
     "data": {
      "text/plain": [
       "2.499487474729789"
      ]
     },
     "metadata": {},
     "output_type": "display_data"
    }
   ],
   "source": [
    "θ̄_mod_MOT_90s - θ̄_LGM_MOT"
   ]
  },
  {
   "cell_type": "code",
   "execution_count": 43,
   "id": "19f19087",
   "metadata": {},
   "outputs": [
    {
     "data": {
      "text/plain": [
       "2.526746048139418"
      ]
     },
     "metadata": {},
     "output_type": "display_data"
    }
   ],
   "source": [
    "θ̄_mod_MOT - θ̄_LGM_MOT"
   ]
  },
  {
   "cell_type": "code",
   "execution_count": null,
   "id": "c64dae7f",
   "metadata": {},
   "outputs": [
    {
     "data": {
      "text/plain": [
       "5.358732182544513"
      ]
     },
     "metadata": {},
     "output_type": "display_data"
    }
   ],
   "source": [
    "θ̄_mod_SST_fineθ̄_mod_MOT - θ̄_LGM_MOTθ̄_mod_MOT - θ̄_LGM_MOT - θ̄_LGM_SST"
   ]
  },
  {
   "cell_type": "code",
   "execution_count": null,
   "id": "985ae4c7",
   "metadata": {},
   "outputs": [
    {
     "data": {
      "text/plain": [
       "2.526746048139418"
      ]
     },
     "metadata": {},
     "output_type": "display_data"
    }
   ],
   "source": []
  },
  {
   "cell_type": "code",
   "execution_count": null,
   "id": "9f527446",
   "metadata": {},
   "outputs": [
    {
     "data": {
      "text/plain": [
       "2.526746048139418"
      ]
     },
     "metadata": {},
     "output_type": "display_data"
    }
   ],
   "source": []
  },
  {
   "cell_type": "code",
   "execution_count": null,
   "id": "e15a29ee",
   "metadata": {},
   "outputs": [],
   "source": []
  }
 ],
 "metadata": {
  "kernelspec": {
   "display_name": "Julia 1.11.5",
   "language": "julia",
   "name": "julia-1.11"
  },
  "language_info": {
   "file_extension": ".jl",
   "mimetype": "application/julia",
   "name": "julia",
   "version": "1.11.5"
  }
 },
 "nbformat": 4,
 "nbformat_minor": 5
}
