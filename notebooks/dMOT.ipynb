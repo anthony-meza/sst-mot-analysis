{
 "cells": [
  {
   "cell_type": "code",
   "execution_count": null,
   "id": "42552e92-d4d9-4d17-8566-fc5a43297108",
   "metadata": {
    "scrolled": true
   },
   "outputs": [],
   "source": [
    "using DrWatson\n",
    "@quickactivate \"sst-mot-analysis\"\n",
    "\n",
    "import DrWatson: datadir, srcdir\n",
    "import DrWatson: @quickactivate\n",
    "\n",
    "using GH19, TMI, PythonCall, Revise\n",
    "using CSV, DataFrames, NaNStatistics, NCDatasets"
   ]
  },
  {
   "cell_type": "code",
   "execution_count": null,
   "id": "e04aaa1b",
   "metadata": {},
   "outputs": [],
   "source": [
    "function get_MOT_and_SST(TMIfile::String, γ::Grid)\n",
    "    θ = readfield(TMIfile, \"θ\", γ); #true mean\n",
    "    volume = cellvolume(γ).tracer \n",
    "    area = cellarea(γ).tracer \n",
    "\n",
    "    θ̄_MOT = nansum(θ.tracer .* volume) / nansum(volume)\n",
    "    θ_SST = getsurfaceboundary(θ);\n",
    "    θ̄_SST = nansum(θ_SST.tracer .* area) / nansum(area)\n",
    "    return θ̄_MOT, θ̄_SST\n",
    "end\n",
    "\n",
    "function get_MOT_and_SST(θ::Field, γ::Grid)\n",
    "    volume = cellvolume(γ).tracer \n",
    "    area = cellarea(γ).tracer \n",
    "\n",
    "    θ̄_MOT = nansum(θ.tracer .* volume) / nansum(volume)\n",
    "    θ_SST = getsurfaceboundary(θ);\n",
    "    θ̄_SST = nansum(θ_SST.tracer .* area) / nansum(area)\n",
    "    return θ̄_MOT, θ̄_SST\n",
    "end"
   ]
  },
  {
   "cell_type": "code",
   "execution_count": null,
   "id": "2af04ce7-5963-4ebd-a892-3b6ffd9808aa",
   "metadata": {},
   "outputs": [],
   "source": [
    "\n",
    "\n",
    "###### LOAD LGM ###########\n",
    "TMI_version = \"LGM_90x45x33_G14\";\n",
    "A, Alu, γ_lgm, TMIfile, L, B = config(TMI_version); println(sum(cellvolume(γ_lgm))) \n",
    "TMIfile = TMI.pkgdatadir(\"TMI_\"*TMI_version*\".nc\")\n",
    "\n",
    "θ̄_LGM_MOT, θ̄_LGM_SST = get_MOT_and_SST(TMIfile, γ_lgm);\n",
    "\n",
    "###### LOAD MODERN GH19 1990s ###########\n",
    "TMI_version = GH19.TMIversion()\n",
    "A, Alu, γ_mod, TMIfile, L, B = config(TMI_version); \n",
    "\n",
    "OPT15_ds = NCDataset(datadir(\"Theta_OPT-0015.nc\"))\n",
    "idx_90s = findmin(abs.(OPT15_ds[\"year\"][:] .- 1990))[2]\n",
    "GH19_theta = GH19.readfield_snapshot(datadir(\"Theta_OPT-0015.nc\"), \"theta\", idx_90s, γ_mod)\n",
    "θ̄_mod_MOT_90s, θ̄_mod_SST_fine_90s = get_MOT_and_SST(GH19_theta, γ_mod);\n",
    "\n",
    "###### LOAD MODERN GH19 15 CE ###########\n",
    "TMI_version = GH19.TMIversion()\n",
    "A, Alu, γ_mod, TMIfile, L, B = config(TMI_version); \n",
    "\n",
    "OPT15_ds = NCDataset(datadir(\"Theta_OPT-0015.nc\"))\n",
    "idx_90s = findmin(abs.(OPT15_ds[\"year\"][:] .- 15))[2]\n",
    "GH19_theta = GH19.readfield_snapshot(datadir(\"Theta_OPT-0015.nc\"), \"theta\", idx_90s, γ_mod)\n",
    "θ̄_mod_MOT_15, θ̄_mod_SST_fine_15 = get_MOT_and_SST(GH19_theta, γ_mod);\n"
   ]
  },
  {
   "cell_type": "code",
   "execution_count": null,
   "id": "cae5e1fc",
   "metadata": {},
   "outputs": [],
   "source": [
    "θ̄_mod_MOT_15 - θ̄_LGM_MOT"
   ]
  },
  {
   "cell_type": "code",
   "execution_count": null,
   "id": "2b0e91e3",
   "metadata": {},
   "outputs": [],
   "source": [
    "θ̄_mod_MOT_15"
   ]
  },
  {
   "cell_type": "code",
   "execution_count": null,
   "id": "6bbd8533",
   "metadata": {},
   "outputs": [],
   "source": [
    "θ̄_mod_MOT_90s - θ̄_mod_MOT_15"
   ]
  },
  {
   "cell_type": "code",
   "execution_count": null,
   "id": "19f19087",
   "metadata": {},
   "outputs": [],
   "source": [
    "θ̄_mod_MOT_90s - θ̄_LGM_MOT"
   ]
  },
  {
   "cell_type": "code",
   "execution_count": null,
   "id": "c64dae7f",
   "metadata": {},
   "outputs": [],
   "source": [
    "θ̄_mod_SST_fineθ̄_mod_MOT - θ̄_LGM_MOTθ̄_mod_MOT - θ̄_LGM_MOT - θ̄_LGM_SST"
   ]
  },
  {
   "cell_type": "code",
   "execution_count": null,
   "id": "985ae4c7",
   "metadata": {},
   "outputs": [],
   "source": []
  },
  {
   "cell_type": "code",
   "execution_count": null,
   "id": "9f527446",
   "metadata": {},
   "outputs": [],
   "source": []
  },
  {
   "cell_type": "code",
   "execution_count": null,
   "id": "e15a29ee",
   "metadata": {},
   "outputs": [],
   "source": []
  }
 ],
 "metadata": {
  "kernelspec": {
   "display_name": "Julia 1.11.5",
   "language": "julia",
   "name": "julia-1.11"
  },
  "language_info": {
   "file_extension": ".jl",
   "mimetype": "application/julia",
   "name": "julia",
   "version": "1.11.5"
  }
 },
 "nbformat": 4,
 "nbformat_minor": 5
}
