{
 "cells": [
  {
   "cell_type": "code",
   "execution_count": null,
   "id": "42552e92-d4d9-4d17-8566-fc5a43297108",
   "metadata": {},
   "outputs": [
    {
     "name": "stderr",
     "output_type": "stream",
     "text": [
      "/Users/anthonymeza/Library/CloudStorage/OneDrive-MassachusettsInstituteofTechnology/Documents/GitHub/sst-mot-analysis/.CondaPkg/.pixi/envs/default/lib/python3.12/site-packages/pyproj/network.py:59: UserWarning: pyproj unable to set PROJ database path.\n",
      "  _set_context_ca_bundle_path(ca_bundle_path)\n"
     ]
    }
   ],
   "source": [
    "import Pkg, Revise\n",
    "using DrWatson\n",
    "@quickactivate \"sst-mot-analysis\"\n",
    "\n",
    "using GH19, TMI\n",
    "using PythonPlot, PythonCall, CondaPkg\n",
    "\n",
    "import DrWatson: datadir, srcdir, plotsdir\n",
    "!isdir(plotsdir()) && mkpath(plotsdir()) \n",
    "\n",
    "using NaNStatistics, Interpolations, \n",
    "      Statistics, LinearAlgebra\n",
    "\n",
    "const mtpl = pyimport(\"matplotlib\");\n",
    "mtpl.rcParams[\"figure.dpi\"] = 100\n",
    "const cartopy = pyimport(\"cartopy\");\n",
    "const matplotlib = pyimport(\"matplotlib\");\n",
    "const sns = pyimport(\"seaborn\");\n",
    "\n",
    "custom_style = Dict(\"text.color\" => \"black\")\n",
    "sns.set_theme(context=\"notebook\", style=\"ticks\", palette = \"colorblind\", rc=custom_style)\n",
    "ccrs = cartopy.crs;"
   ]
  },
  {
   "cell_type": "code",
   "execution_count": 2,
   "id": "40ec36eb-d5dd-4bc1-a55a-9d1b42f030f9",
   "metadata": {},
   "outputs": [
    {
     "name": "stdout",
     "output_type": "stream",
     "text": [
      "Downloading OPT-0015 output\n",
      " takes about 10 minutes\n",
      "Theta_OPT-0015.nc already downloaded; use `force=true` to re-download\n",
      "Theta_anom_OPT-0015.nc already downloaded; use `force=true` to re-download\n"
     ]
    },
    {
     "data": {
      "text/plain": [
       "coarse_grain_boundary_condition"
      ]
     },
     "execution_count": 2,
     "metadata": {},
     "output_type": "execute_result"
    }
   ],
   "source": [
    "include(srcdir(\"load_GH19.jl\"))\n",
    "include(srcdir(\"decompose_discrete.jl\"))\n",
    "include(srcdir(\"blocksum.jl\"))"
   ]
  },
  {
   "cell_type": "code",
   "execution_count": 3,
   "id": "8ad8487d-489d-4d26-8c71-16b3a623b249",
   "metadata": {},
   "outputs": [
    {
     "data": {
      "text/plain": [
       "surfacecellarea (generic function with 1 method)"
      ]
     },
     "execution_count": 3,
     "metadata": {},
     "output_type": "execute_result"
    }
   ],
   "source": [
    "function get_area_normalized_volume_filled_bc(TMIversion,Alu,γ)\n",
    "    volume = volumefilled(TMIversion,Alu,γ); \n",
    "    volume = (10 .^ volume.tracer)\n",
    "    volume = BoundaryCondition(volume,(γ.lon,γ.lat),γ.depth[1],3,1,γ.wet[:, :, 1],:V,\"volume filled by surface gridcell per area\",\"m³/m²\")\n",
    "    return 1 * volume\n",
    "end\n",
    "\n",
    "function get_volume_filled_bc(volume_normalized, γ, areao)\n",
    "    volume = volume_normalized.tracer .* Float64.(areao.tracer)\n",
    "    volume = BoundaryCondition(volume,(γ.lon,γ.lat),γ.depth[1],3,1,volume_normalized.wet,:V,\"volume filled by surface gridcell\",\"m³\")\n",
    "    return 1 * volume\n",
    "end\n",
    "\n",
    "function get_MOT_and_SST(TMIfile::String, γ::Grid)\n",
    "    θ̄ = readfield(TMIfile, \"θ\", γ); #true mean\n",
    "    volume = cellvolume(γ).tracer \n",
    "    θ̄_MOT = nansum(θ̄.tracer .* volume) / nansum(volume)\n",
    "    θ̄_SST = getsurfaceboundary(θ̄);\n",
    "\n",
    "    return θ̄_MOT, θ̄_SST\n",
    "end\n",
    "\n",
    "function get_MOT_and_SST(θ̄::Field, γ::Grid)\n",
    "    volume = cellvolume(γ).tracer \n",
    "    θ̄_MOT = nansum(θ̄.tracer .* volume) / nansum(volume)\n",
    "    θ̄_SST = getsurfaceboundary(θ̄);\n",
    "\n",
    "    return θ̄_MOT, θ̄_SST\n",
    "end\n",
    "\n",
    "surfacecellarea(γ) = cellarea(γ)"
   ]
  },
  {
   "cell_type": "code",
   "execution_count": 4,
   "id": "55f005db-432f-4511-ae22-b807239550e3",
   "metadata": {},
   "outputs": [
    {
     "name": "stdout",
     "output_type": "stream",
     "text": [
      "Form water-mass matrix A\n",
      "  0.257419 seconds (643.76 k allocations: 59.810 MiB, 2.95% gc time, 86.84% compilation time)\n",
      "LU factorization of A\n",
      "  0.492457 seconds (586.66 k allocations: 334.429 MiB, 1.64% gc time, 16.73% compilation time)\n",
      "circulation matrix L=\n",
      "  0.093630 seconds (83.44 k allocations: 4.416 MiB, 97.03% compilation time)\n",
      "Boundary matrix B=\n",
      "  0.021427 seconds (16.05 k allocations: 834.680 KiB, 92.09% compilation time)\n",
      "1.4033505303988716e18\n",
      "Form water-mass matrix A\n",
      "  0.067358 seconds (35.20 k allocations: 120.458 MiB, 13.92% gc time, 17.38% compilation time)\n",
      "LU factorization of A\n",
      "  5.264301 seconds (250 allocations: 2.810 GiB, 1.40% gc time, 0.07% compilation time)\n",
      "circulation matrix L=\n",
      "  0.217958 seconds (8.35 M allocations: 235.297 MiB, 5.71% gc time, 35.94% compilation time)\n",
      "Boundary matrix B=\n",
      "  0.014448 seconds (6.19 k allocations: 7.271 MiB, 19.77% compilation time)\n",
      "Form water-mass matrix A\n",
      "  0.040140 seconds (5.23 k allocations: 118.943 MiB, 25.52% gc time)\n",
      "LU factorization of A\n",
      "  4.743516 seconds (88 allocations: 2.810 GiB, 0.25% gc time)\n",
      "circulation matrix L=\n",
      "  0.136068 seconds (8.14 M allocations: 224.520 MiB, 5.29% gc time)\n",
      "Boundary matrix B=\n",
      "  0.012076 seconds (6.14 k allocations: 7.270 MiB)\n"
     ]
    }
   ],
   "source": [
    "###### LOAD LGM ###########\n",
    "TMI_version = \"LGM_90x45x33_G14\";\n",
    "A, Alu, γ_lgm, TMIfile, L, B = config(TMI_version); println(sum(cellvolume(γ_lgm))) \n",
    "TMIfile = TMI.pkgdatadir(\"TMI_\"*TMI_version*\".nc\")\n",
    "\n",
    "volume_LGM_normalized = get_area_normalized_volume_filled_bc(TMIversion,Alu,γ_lgm)\n",
    "\n",
    "volume_lgm = get_volume_filled_bc(volume_LGM_normalized, γ_lgm, surfacecellarea(γ_lgm))\n",
    "\n",
    "θ̄_LGM_MOT, θ̄_LGM_SST = get_MOT_and_SST(TMIfile, γ_lgm);\n",
    "\n",
    "###### LOAD PREINDUSTRIAL ###########\n",
    "TMI_version = GH19.TMIversion();\n",
    "A, Alu, γ_mod, TMIfile, L, B = config(TMI_version); \n",
    "TMIfile = TMI.pkgdatadir(\"TMI_\"*TMI_version*\".nc\")\n",
    "\n",
    "volume_mod_normalized_fine = get_area_normalized_volume_filled_bc(TMIversion,Alu,γ_mod)\n",
    "\n",
    "volume_mod_fine = get_volume_filled_bc(volume_mod_normalized_fine, γ_mod, surfacecellarea(γ_mod))\n",
    "θ̄GH19 = load_GH19_equillibrium()\n",
    "θ̄_mod_MOT, θ̄_mod_SST_fine = get_MOT_and_SST(θ̄GH19, γ_mod);"
   ]
  },
  {
   "cell_type": "code",
   "execution_count": 5,
   "id": "7557399e-e5e2-41f6-a7c8-80dc54d854c6",
   "metadata": {},
   "outputs": [],
   "source": [
    "weights = volume_mod_fine.tracer ./ nansum(volume_mod_fine.tracer)\n",
    "weights[isnan.(weights)] .= 0.0\n",
    "\n",
    "oarea_mod_coarse = coarse_grain_boundary_condition(\n",
    "    surfacecellarea(γ_mod), γ_mod, γ_lgm,\n",
    "    2, 2;\n",
    "    method = :sum, use_area_weights = false, weights = nothing)\n",
    "\n",
    "volume_mod = coarse_grain_boundary_condition(\n",
    "    volume_mod_fine, γ_mod, γ_lgm,\n",
    "    2, 2;\n",
    "    method = :sum, use_area_weights = false, weights = nothing)\n",
    "\n",
    "θ̄_mod_SST = coarse_grain_boundary_condition(\n",
    "    θ̄_mod_SST_fine, γ_mod, γ_lgm,\n",
    "    2, 2;\n",
    "    method = :average, use_area_weights = false, weights = weights, var = :θ);\n"
   ]
  },
  {
   "cell_type": "code",
   "execution_count": 6,
   "id": "11729781-95a5-4620-aff7-d7e0a603dd88",
   "metadata": {},
   "outputs": [
    {
     "name": "stdout",
     "output_type": "stream",
     "text": [
      "MEAN SST % DIFFERENCE: -0.54 %\n",
      "MEAN OCE TMP % DIFFERENCE: 0.0 %\n",
      "MEAN ΔSST TMP % DIFFERENCE: -1.86 %\n",
      "MEAN ΔOCE TMP % DIFFERENCE: 0.0 %\n",
      "MEAN ΔOCE/ΔSST TMP % DIFFERENCE: 1.9 %\n"
     ]
    }
   ],
   "source": [
    "# print percent difference with label\n",
    "function print_diff(label, coarse, truth; digits=2)\n",
    "    perc_diff(x, y) = 100 * (x - y) / y\n",
    "    pd = round(perc_diff(coarse, truth), digits=digits)\n",
    "    println(\"$label: $pd %\")\n",
    "end\n",
    "\n",
    "# weighted mean, ignoring NaNs\n",
    "weighted_mean(weight, field) = nansum(weight .* field) / nansum(weight)\n",
    "\n",
    "\n",
    "# ——————————————————————————————————————————————————————————————\n",
    "# Compute true and coarse means for SST\n",
    "# ——————————————————————————————————————————————————————————————\n",
    "true_mod_SST    = weighted_mean(cellarea(γ_mod).tracer, θ̄_mod_SST_fine.tracer)\n",
    "true_lgm_SST    = weighted_mean(cellarea(γ_lgm).tracer, θ̄_LGM_SST.tracer)\n",
    "coarse_mod_SST  = weighted_mean(oarea_mod_coarse.tracer, θ̄_mod_SST.tracer)\n",
    "\n",
    "print_diff(\"MEAN SST % DIFFERENCE\", coarse_mod_SST, true_mod_SST)\n",
    "\n",
    "# ——————————————————————————————————————————————————————————————\n",
    "# Compute volume-weighted mean temperature (MOT)\n",
    "# ——————————————————————————————————————————————————————————————\n",
    "volume_mean(volume, tracer) = weighted_mean(volume.tracer, tracer.tracer)\n",
    "\n",
    "true_eq_MOT_mod = volume_mean(volume_mod_fine, θ̄_mod_SST_fine)\n",
    "true_eq_MOT_lgm = volume_mean(volume_lgm, θ̄_LGM_SST)\n",
    "coarse_eq_MOT   = volume_mean(volume_mod, θ̄_mod_SST)\n",
    "\n",
    "print_diff(\"MEAN OCE TMP % DIFFERENCE\", coarse_eq_MOT, true_eq_MOT_mod)\n",
    "\n",
    "# ——————————————————————————————————————————————————————————————\n",
    "# Compute and compare ΔSST and ΔOCE TMP\n",
    "# ——————————————————————————————————————————————————————————————\n",
    "Δ_true_SST      = true_mod_SST    - true_lgm_SST\n",
    "Δ_coarse_SST    = coarse_mod_SST  - true_lgm_SST\n",
    "Δ_true_eq_MOT   = true_eq_MOT_mod - true_eq_MOT_lgm\n",
    "Δ_coarse_eq_MOT = coarse_eq_MOT   - true_eq_MOT_lgm\n",
    "\n",
    "print_diff(\"MEAN ΔSST TMP % DIFFERENCE\", Δ_coarse_SST,    Δ_true_SST)\n",
    "print_diff(\"MEAN ΔOCE TMP % DIFFERENCE\", Δ_coarse_eq_MOT, Δ_true_eq_MOT)\n",
    "print_diff(\"MEAN ΔOCE/ΔSST TMP % DIFFERENCE\", Δ_coarse_eq_MOT/Δ_coarse_SST, Δ_true_eq_MOT/Δ_true_SST)"
   ]
  },
  {
   "cell_type": "code",
   "execution_count": 7,
   "id": "a17f4358-e0ac-40a8-8aec-962ac0099e3e",
   "metadata": {},
   "outputs": [
    {
     "data": {
      "image/png": "[encoded data removed]",
      "text/plain": [
       "Figure(<py Figure size 500x400 with 1 Axes>)"
      ]
     },
     "metadata": {},
     "output_type": "display_data"
    },
    {
     "data": {
      "text/plain": [
       "Python: None"
      ]
     },
     "execution_count": 7,
     "metadata": {},
     "output_type": "execute_result"
    }
   ],
   "source": [
    "D_mod = copy(θ̄_mod_SST.wet)\n",
    "SST_mod = 1 .* θ̄_mod_SST.tracer; SST_mod[.!D_mod] .= 0.0;\n",
    "w_mod = 1 .* volume_mod.tracer; w_mod[.!D_mod] .= 0.0;\n",
    "w_mod = 1 .* w_mod ./ nansum(w_mod)\n",
    "\n",
    "D_lgm = copy(θ̄_LGM_SST.wet)\n",
    "SST_lgm = 1 .* θ̄_LGM_SST.tracer; SST_lgm[.!D_lgm] .= 0.0;\n",
    "w_lgm = 1 .*  volume_lgm.tracer; w_lgm[.!D_lgm] .= 0.0;\n",
    "w_lgm = 1 .*  w_lgm ./ nansum(w_lgm); w_lgm[isnan.(w_lgm)] .= 0.0\n",
    "\n",
    "\n",
    "res = decompose_discrete_full(\n",
    "    SST_lgm, SST_mod,\n",
    "    D_lgm, D_mod,\n",
    "    w_lgm, w_mod)\n",
    "\n",
    "true_mot_change = (θ̄_mod_MOT - θ̄_LGM_MOT)\n",
    "residual = true_mot_change .- (res.integrand_change + res.weight_change + res.overlap_interaction)\n",
    "\n",
    "term_dict = Dict(\"regridding_geometry_residual\" => residual,\n",
    "                 \"integrand_change\" => res.integrand_change,\n",
    "                 \"weight_change\" => res.weight_change,\n",
    "                 \"overlap_interaction\" => res.overlap_interaction, \n",
    "                 \"dMOT\" => true_mot_change)\n",
    "\n",
    "term_label_dict = Dict(\"regridding_geometry_residual\" => \"Regridding/\\nGeometry\\nResidual\",\n",
    "                       \"integrand_change\" => raw\"$\\sum_{\\mathcal{D}_{\\cap}} \\Delta SST ~ v_{LGM}$\",\n",
    "                       \"weight_change\" => raw\"$\\sum_{\\mathcal{D}_{\\cap}}  SST_{LGM} ~ \\Delta v$\",\n",
    "                       \"overlap_interaction\" => raw\"$\\sum_{\\mathcal{D}_{\\cap}}  \\Delta SST ~ \\Delta v$\",\n",
    "                       \"dMOT\" => raw\"$\\Delta \\text{MOT}$\")\n",
    "\n",
    "fig, axes = subplots(1; sharey=true, figsize=(5, 4))\n",
    "\n",
    "plot_terms = [\"regridding_geometry_residual\", \"overlap_interaction\", \"weight_change\", \"integrand_change\", \"dMOT\"]\n",
    "colors_terms = sns.color_palette(\"deep\", length(plot_terms)); colors_terms[-1] = \"k\"\n",
    "plot_terms = reverse(plot_terms); colors_terms = reverse(collect(colors_terms))\n",
    "\n",
    "axes.barh([term_label_dict[k] for k in plot_terms], [term_dict[k] for k in plot_terms], color=colors_terms)\n",
    "axes.set_xlabel(L\"[^\\circ\\text{C}]\")\n",
    "axes.grid(alpha = 0.2, zorder = 0, axis = \"x\")\n",
    "axes.spines[\"top\"].set_visible(false)\n",
    "axes.spines[\"right\"].set_visible(false)\n",
    "fig.savefig(plotsdir(\"2.MOT_Change_decomposition_horizontal.png\"); dpi=200, bbox_inches=\"tight\")\n"
   ]
  },
  {
   "cell_type": "code",
   "execution_count": 8,
   "id": "47fe041a-4d08-45e4-9e87-381a2cd41c28",
   "metadata": {},
   "outputs": [
    {
     "name": "stderr",
     "output_type": "stream",
     "text": [
      "sys:1: UserWarning: set_ticklabels() should only be used with a fixed number of ticks, i.e. after set_ticks() or using a FixedLocator.\n",
      "sys:1: UserWarning: set_ticklabels() should only be used with a fixed number of ticks, i.e. after set_ticks() or using a FixedLocator.\n"
     ]
    },
    {
     "data": {
      "image/png": "[encoded data removed]",
      "text/plain": [
       "Figure(<py Figure size 1200x400 with 2 Axes>)"
      ]
     },
     "metadata": {},
     "output_type": "display_data"
    },
    {
     "data": {
      "text/plain": [
       "Python: Text(0.5, 1.0, 'Actual vs Reconstructed')"
      ]
     },
     "execution_count": 8,
     "metadata": {},
     "output_type": "execute_result"
    }
   ],
   "source": [
    "D_mod = copy(θ̄_mod_SST.wet)\n",
    "SST_mod = 1 .* θ̄_mod_SST.tracer; SST_mod[.!D_mod] .= 0.0;\n",
    "w_mod = 1 .* oarea_mod_coarse.tracer; w_mod[.!D_mod] .= 0.0;\n",
    "w_mod = 1 .* w_mod ./ nansum(w_mod)\n",
    "\n",
    "D_lgm = copy(θ̄_LGM_SST.wet)\n",
    "SST_lgm = 1 .* θ̄_LGM_SST.tracer; SST_lgm[.!D_lgm] .= 0.0;\n",
    "w_lgm = 1 .* surfacecellarea(γ_lgm).tracer; w_lgm[.!D_lgm] .= 0.0;\n",
    "w_lgm = 1 .*  w_lgm ./ nansum(w_lgm); w_lgm[isnan.(w_lgm)] .= 0.0\n",
    "\n",
    "res = decompose_discrete_full(\n",
    "    SST_lgm, SST_mod,\n",
    "    D_lgm, D_mod,\n",
    "    w_lgm, w_mod\n",
    ")\n",
    "\n",
    "true_sst_change =  true_mod_SST    - true_lgm_SST\n",
    "#change in tMOT explained by addtl terms and other errors\n",
    "residual = true_sst_change .- (res.integrand_change + res.weight_change + res.overlap_interaction)\n",
    "\n",
    "term_dict = Dict(\"Other\\nTerms\" => residual,\n",
    "    raw\"$\\sum_{\\mathcal{D}_{PI} \\cap \\mathcal{D}_{LGM}} \\Delta SST ~ dA_{LGM}$\" => res.integrand_change,\n",
    "    raw\"$\\sum_{\\mathcal{D}_{PI} \\cap \\mathcal{D}_{LGM}}  SST_{LGM} ~ \\Delta dA$\" => res.weight_change,\n",
    "    raw\"$\\sum_{\\mathcal{D}_{PI} \\cap \\mathcal{D}_{LGM}}  \\Delta SST ~ \\Delta dA$\" => res.overlap_interaction)\n",
    "\n",
    "diff_dict = Dict(\"Actual Difference\" => true_sst_change, \"Remapped Difference\" =>res.total_decomposed)\n",
    "\n",
    "# get colors\n",
    "colors_terms = sns.color_palette(\"deep\", term_dict.count)\n",
    "colors_diff  = sns.color_palette(\"deep\", diff_dict.count)\n",
    "\n",
    "# make a 1×2 figure, sharing y-axis\n",
    "fig, axes = subplots(1, 2; sharey=true, figsize=(12, 4))\n",
    "\n",
    "# left plot: decomposition terms\n",
    "axes[0].bar(keys(term_dict), [term_dict[k] for k in keys(term_dict)], color=colors_terms)\n",
    "axes[0].set_xticklabels(keys(term_dict), rotation=30, ha=\"right\")\n",
    "axes[0].set_title(\"Decomposition of \" * L\"\\sum_{\\mathcal{D}_{PI}} (SST ~ dA)_{PI} - \\sum_{\\mathcal{D}_{LGM}} (SST ~ dA)_{LGM}\")\n",
    "axes[0].set_ylabel(\"Value\")\n",
    "\n",
    "# right plot: actual vs reconstructed\n",
    "axes[1].bar(keys(diff_dict), [diff_dict[k] for k in keys(diff_dict)]; color=colors_diff)\n",
    "axes[1].set_xticklabels(keys(diff_dict), rotation=0, ha=\"center\")\n",
    "axes[1].set_title(\"Actual vs Reconstructed\")\n"
   ]
  },
  {
   "cell_type": "code",
   "execution_count": null,
   "id": "5d35355e-bef2-496c-87b7-ef7e0a0512e8",
   "metadata": {},
   "outputs": [],
   "source": []
  }
 ],
 "metadata": {
  "kernelspec": {
   "display_name": "Julia 1.11.5",
   "language": "julia",
   "name": "julia-1.11"
  },
  "language_info": {
   "file_extension": ".jl",
   "mimetype": "application/julia",
   "name": "julia",
   "version": "1.11.5"
  }
 },
 "nbformat": 4,
 "nbformat_minor": 5
}
