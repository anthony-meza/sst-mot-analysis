{
 "cells": [
  {
   "cell_type": "code",
   "execution_count": 38,
   "id": "42552e92-d4d9-4d17-8566-fc5a43297108",
   "metadata": {
    "scrolled": true
   },
   "outputs": [
    {
     "name": "stdout",
     "output_type": "stream",
     "text": [
      "Downloading OPT-0015 output\n",
      " takes about 10 minutes\n",
      "Theta_OPT-0015.nc already downloaded; use `force=true` to re-download\n",
      "Theta_anom_OPT-0015.nc already downloaded; use `force=true` to re-download\n"
     ]
    }
   ],
   "source": [
    "using DrWatson\n",
    "@quickactivate \"sst-mot-analysis\"\n",
    "\n",
    "import DrWatson: datadir, srcdir\n",
    "import DrWatson: @quickactivate\n",
    "using NaNStatistics\n",
    "include(srcdir(\"compare_random_samples.jl\"))\n",
    "\n",
    "using GH19, TMI, PythonCall, Revise, PythonPlot"
   ]
  },
  {
   "cell_type": "code",
   "execution_count": 39,
   "id": "f0f916cd-3108-4d8f-9234-d981694caa18",
   "metadata": {},
   "outputs": [
    {
     "data": {
      "text/plain": [
       "mean (generic function with 1 method)"
      ]
     },
     "execution_count": 39,
     "metadata": {},
     "output_type": "execute_result"
    }
   ],
   "source": [
    "mean(x::BoundaryCondition, γ) = sum(vec(x) .* vec(cellarea(γ))) / sum(vec(cellarea(γ)))"
   ]
  },
  {
   "cell_type": "code",
   "execution_count": 72,
   "id": "ea21968f-8c0d-42d4-856a-99461489f08d",
   "metadata": {},
   "outputs": [
    {
     "data": {
      "text/plain": [
       "get_MOT_and_SST (generic function with 2 methods)"
      ]
     },
     "execution_count": 72,
     "metadata": {},
     "output_type": "execute_result"
    }
   ],
   "source": [
    "function get_MOT_and_SST(TMI_version::String)\n",
    "    A, Alu, γ, TMIfile, L, B = config(TMI_version); \n",
    "    TMIfile = TMI.pkgdatadir(\"TMI_\"*TMI_version*\".nc\")\n",
    "    θ̄ = readfield(TMIfile, \"θ\", γ); #true mean\n",
    "    θ̄_SST = getsurfaceboundary(θ̄);\n",
    "    # θ̄ = steadyinversion(Alu, θ̄_SST, γ)\n",
    "    return TMI.mean(θ̄), mean(θ̄_SST, γ)\n",
    "end\n",
    "\n",
    "function get_MOT_and_SST(θ̄::Field, γ::Grid)\n",
    "    θ̄_SST = getsurfaceboundary(θ̄);\n",
    "    return TMI.mean(θ̄), mean(θ̄_SST, γ)\n",
    "end"
   ]
  },
  {
   "cell_type": "code",
   "execution_count": 73,
   "id": "0d5fd58e-e9e1-4d0b-a02b-63b12a508233",
   "metadata": {},
   "outputs": [
    {
     "data": {
      "text/plain": [
       "(\"LGM_90x45x33_G14\", \"LGM_90x45x33_G14A\", \"LGM_90x45x33_GPLS1\", \"LGM_90x45x33_GPLS2\", \"LGM_90x45x33_OG18\")"
      ]
     },
     "execution_count": 73,
     "metadata": {},
     "output_type": "execute_result"
    }
   ],
   "source": [
    "filter(v->occursin(\"LGM\",v), versionlist())"
   ]
  },
  {
   "cell_type": "code",
   "execution_count": 74,
   "id": "227bda2c-1422-465a-8682-7d366ccaf01b",
   "metadata": {},
   "outputs": [
    {
     "data": {
      "text/plain": [
       "(\"LGM_90x45x33_G14\", \"LGM_90x45x33_GPLS1\", \"LGM_90x45x33_GPLS2\", \"LGM_90x45x33_OG18\")"
      ]
     },
     "execution_count": 74,
     "metadata": {},
     "output_type": "execute_result"
    }
   ],
   "source": [
    "glacial_versions = filter(v->occursin(\"LGM\",v), versionlist())\n",
    "glacial_versions = glacial_versions[[1, 3, 4, 5]]"
   ]
  },
  {
   "cell_type": "code",
   "execution_count": 75,
   "id": "5485dff6-aac5-49e5-bf40-655e2913e4a9",
   "metadata": {
    "scrolled": true
   },
   "outputs": [
    {
     "name": "stdout",
     "output_type": "stream",
     "text": [
      "Form water-mass matrix A\n",
      "  0.015082 seconds (1.99 k allocations: 26.437 MiB)\n",
      "LU factorization of A\n",
      "  0.401814 seconds (88 allocations: 305.217 MiB, 13.37% gc time)\n",
      "circulation matrix L=\n",
      "  0.002220 seconds (333 allocations: 26.828 KiB)\n",
      "Boundary matrix B=\n",
      "  0.001736 seconds (332 allocations: 26.805 KiB)\n",
      "Form water-mass matrix A\n",
      "  0.011406 seconds (1.99 k allocations: 26.437 MiB)\n",
      "LU factorization of A\n",
      "  0.327078 seconds (87 allocations: 305.263 MiB)\n",
      "circulation matrix L=\n",
      "  0.002025 seconds (333 allocations: 26.828 KiB)\n",
      "Boundary matrix B=\n",
      "  0.001076 seconds (332 allocations: 26.805 KiB)\n",
      "Form water-mass matrix A\n",
      "  0.013347 seconds (1.99 k allocations: 26.437 MiB)\n",
      "LU factorization of A\n",
      "  0.340028 seconds (87 allocations: 305.263 MiB)\n",
      "circulation matrix L=\n",
      "  0.001923 seconds (333 allocations: 26.828 KiB)\n",
      "Boundary matrix B=\n",
      "  0.001122 seconds (332 allocations: 26.805 KiB)\n",
      "Form water-mass matrix A\n",
      "  0.012642 seconds (1.99 k allocations: 26.437 MiB)\n",
      "LU factorization of A\n",
      "  0.383819 seconds (99 allocations: 305.264 MiB, 1.35% gc time)\n",
      "circulation matrix L=\n",
      "  0.001904 seconds (333 allocations: 26.828 KiB)\n",
      "Boundary matrix B=\n",
      "  0.001180 seconds (332 allocations: 26.805 KiB)\n"
     ]
    },
    {
     "data": {
      "text/plain": [
       "Dict{String, Tuple{Float64, Float64}} with 4 entries:\n",
       "  \"LGM_90x45x33_OG18\"  => (3.00805, 13.5865)\n",
       "  \"LGM_90x45x33_GPLS2\" => (1.46506, 10.656)\n",
       "  \"LGM_90x45x33_GPLS1\" => (3.24336, 12.1271)\n",
       "  \"LGM_90x45x33_G14\"   => (0.929498, 11.5837)"
      ]
     },
     "execution_count": 75,
     "metadata": {},
     "output_type": "execute_result"
    }
   ],
   "source": [
    "glacial_temps = Dict(k => (get_MOT_and_SST(k)) for k in glacial_versions)"
   ]
  },
  {
   "cell_type": "code",
   "execution_count": 76,
   "id": "4a3cce4c-6424-43b6-a7f4-779b3309e150",
   "metadata": {},
   "outputs": [
    {
     "name": "stdout",
     "output_type": "stream",
     "text": [
      "Form water-mass matrix A\n",
      "  0.041394 seconds (5.23 k allocations: 118.943 MiB)\n",
      "LU factorization of A\n",
      "  4.614394 seconds (91 allocations: 2.868 GiB, 0.19% gc time)\n",
      "circulation matrix L=\n",
      "  0.124797 seconds (8.14 M allocations: 224.520 MiB)\n",
      "Boundary matrix B=\n",
      "  0.012429 seconds (6.14 k allocations: 7.270 MiB)\n",
      "Form water-mass matrix A\n",
      "  0.028845 seconds (5.23 k allocations: 118.943 MiB)\n",
      "LU factorization of A\n",
      "  4.884960 seconds (89 allocations: 2.868 GiB, 0.24% gc time)\n",
      "circulation matrix L=\n",
      "  0.124028 seconds (8.14 M allocations: 224.520 MiB)\n",
      "Boundary matrix B=\n",
      "  0.010350 seconds (6.14 k allocations: 7.270 MiB)\n"
     ]
    }
   ],
   "source": [
    "###### LOAD PREINDUSTRIAL ###########\n",
    "TMI_version = GH19.TMIversion();\n",
    "A, Alu, γ_mod, TMIfile, L, B = config(TMI_version); \n",
    "TMIfile = TMI.pkgdatadir(\"TMI_\"*TMI_version*\".nc\")\n",
    "\n",
    "θ̄GH19 = load_GH19_equillibrium()\n",
    "\n",
    "θ̄_mod_MOT, θ̄_mod_SST_fine = get_MOT_and_SST(θ̄GH19, γ_mod);"
   ]
  },
  {
   "cell_type": "code",
   "execution_count": 71,
   "id": "322db3e5-2ba1-448f-9d5f-74da60be7362",
   "metadata": {},
   "outputs": [
    {
     "data": {
      "image/png": "[encoded data removed]",
      "text/plain": [
       "Figure(<py Figure size 640x480 with 1 Axes>)"
      ]
     },
     "metadata": {},
     "output_type": "display_data"
    },
    {
     "data": {
      "text/plain": [
       "Python: <matplotlib.legend.Legend object at 0x167672de0>"
      ]
     },
     "execution_count": 71,
     "metadata": {},
     "output_type": "execute_result"
    }
   ],
   "source": [
    "glacial_ΔMOT = Dict(k => θ̄_mod_MOT -  glacial_temps[k][1] for k in keys(glacial_temps))\n",
    "glacial_ΔSST = Dict(k => θ̄_mod_SST_fine -  glacial_temps[k][2] for k in keys(glacial_temps))\n",
    "\n",
    "fig, ax = subplots()\n",
    "ax.plot(-1:5, -1:5, c = \"k\")\n",
    "for k in keys(glacial_ΔMOT)\n",
    "    ax.scatter(glacial_ΔSST[k], glacial_ΔMOT[k], label = k)\n",
    "end\n",
    "ax.legend()"
   ]
  },
  {
   "cell_type": "code",
   "execution_count": null,
   "id": "6fadf8c4-b110-40c7-936c-518195357fab",
   "metadata": {},
   "outputs": [],
   "source": []
  }
 ],
 "metadata": {
  "kernelspec": {
   "display_name": "Julia 1.11.5",
   "language": "julia",
   "name": "julia-1.11"
  },
  "language_info": {
   "file_extension": ".jl",
   "mimetype": "application/julia",
   "name": "julia",
   "version": "1.11.5"
  }
 },
 "nbformat": 4,
 "nbformat_minor": 5
}
